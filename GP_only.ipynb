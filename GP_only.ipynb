# Antiviral Potency Prediction with Gaussian Process Regression
# ASAP Discovery Challenge - March 2025

## 1. Setup and Data Loading

```python
import sys
import os
import numpy as np
import pandas as pd
import torch
import gpytorch
import datamol as dm

# Navigate to project root
root_dir = os.path.abspath(os.path.join(os.getcwd(), "DD"))
sys.path.append(root_dir)

# Import project utilities
from utils import *
import polaris as po

# Load competition data
CHALLENGE = "antiviral-potency-2025"
competition = po.load_competition(f"asap-discovery/{CHALLENGE}")
competition.cache()

# Get train-test split
train, test = competition.get_train_test_split()
```

## 2. Data Preprocessing

```python
# Create empty lists to store the data
smiles = []
pIC50_MERS = []
pIC50_SARS = []

# Iterate through dataset
for i in range(len(train)):
    item = train[i]
    # Extract SMILES string
    smiles.append(item[0])
    # Extract pIC50 values
    pIC50_MERS.append(item[1]['pIC50 (MERS-CoV Mpro)'])
    pIC50_SARS.append(item[1]['pIC50 (SARS-CoV-2 Mpro)'])

# Create and clean DataFrame
mpro_df = pd.DataFrame({
    'SMILES': smiles,
    'pIC50_MERS': pIC50_MERS,
    'pIC50_SARS': pIC50_SARS
})
mpro_df = mpro_df.dropna()  # Remove rows with missing values

# Convert SMILES to molecular fingerprints
X_train = np.array([dm.to_fp(dm.to_mol(smi)) for smi in mpro_df['SMILES']])
Y_sars = mpro_df['pIC50_SARS']
Y_mers = mpro_df['pIC50_MERS']
X_test = np.array([dm.to_fp(dm.to_mol(smi)) for smi in test.X])

# Convert to PyTorch tensors
X_train = torch.tensor(X_train, dtype=torch.uint8)
Y_sars = torch.tensor(Y_sars.to_numpy(), dtype=torch.float32)
Y_mers = torch.tensor(Y_mers.to_numpy(), dtype=torch.float32)
X_test = torch.tensor(X_test, dtype=torch.uint8)
```

## 3. Model Definition - Gaussian Process Regression

```python
class TanimotoKernel(gpytorch.kernels.Kernel):
    """
    A custom kernel implementing the Tanimoto similarity for GPyTorch models.
    
    The Tanimoto kernel is particularly useful for binary data, such as molecular fingerprints.
    It computes the similarity between two binary vectors using the Tanimoto coefficient.
    """
    
    def __init__(self, **kwargs):
        """Initialize the TanimotoKernel."""
        super(TanimotoKernel, self).__init__(**kwargs)
        self.register_parameter(name="raw_lengthscale", parameter=torch.nn.Parameter(torch.zeros(1)))
    
    def forward(self, x1, x2, diag=False, **params):
        """Compute the Tanimoto similarity between two sets of inputs."""
        if diag:
            return self.covar_dist(x1, x2, diag=True, **params)
        else:
            x1_norm = x1.pow(2).sum(dim=-1, keepdim=True)
            x2_norm = x2.pow(2).sum(dim=-1, keepdim=True)
            x1_dot_x2 = torch.matmul(x1, x2.transpose(-1, -2))
            denominator = x1_norm + x2_norm.transpose(-1, -2) - x1_dot_x2
            return x1_dot_x2 / denominator.clamp(min=1e-8)

class GPRegressionModel(gpytorch.models.ExactGP):
    """
    A Gaussian Process Regression model with configurable kernels.
    
    This model is designed for exact GP inference and is particularly suited for
    regression tasks with molecular fingerprints.
    """
    
    def __init__(self, train_x, train_y, likelihood, kernel_type="linear"):
        """Initialize the GPRegressionModel."""
        super(GPRegressionModel, self).__init__(train_x, train_y, likelihood)
        self.mean_module = gpytorch.means.ConstantMean()
        
        # Select kernel based on kernel_type
        if kernel_type == "linear":
            self.covar_module = gpytorch.kernels.ScaleKernel(gpytorch.kernels.LinearKernel())
            print("Using Linear kernel")
        elif kernel_type == "tanimoto":
            self.covar_module = gpytorch.kernels.ScaleKernel(TanimotoKernel())
            print("Using Tanimoto kernel")
        elif kernel_type == "rbf":
            self.covar_module = gpytorch.kernels.ScaleKernel(gpytorch.kernels.RBFKernel())
            print("Using RBF kernel")
        elif kernel_type == "matern":
            self.covar_module = gpytorch.kernels.ScaleKernel(gpytorch.kernels.MaternKernel())
            print("Using Matern kernel")
        elif kernel_type == "rq":
            self.covar_module = gpytorch.kernels.ScaleKernel(gpytorch.kernels.RQKernel())
            print("Using RQ kernel")
        else:
            # Default to linear kernel
            self.covar_module = gpytorch.kernels.ScaleKernel(gpytorch.kernels.LinearKernel())
            print(f"Unknown kernel '{kernel_type}', using Linear kernel as default")
    
    def forward(self, x):
        """Define the computational graph for the GP model."""
        mean_x = self.mean_module(x)
        covar_x = self.covar_module(x)
        return gpytorch.distributions.MultivariateNormal(mean_x, covar_x)
```

## 4. Training Function

```python
def train_gp_model(train_x, train_y, likelihood, model, epochs=100, lr=0.1, lr_decay=0.95):
    """
    Train a Gaussian Process regression model.
    
    Parameters:
    -----------
    train_x : torch.Tensor
        Training input data.
    train_y : torch.Tensor
        Training target values.
    likelihood : gpytorch.likelihoods.GaussianLikelihood
        The likelihood for the GP model.
    model : GPRegressionModel
        The GP model to train.
    epochs : int
        Number of training epochs.
    lr : float
        Initial learning rate.
    lr_decay : float
        Learning rate decay factor.
        
    Returns:
    --------
    model : GPRegressionModel
        Trained GP model.
    likelihood : gpytorch.likelihoods.GaussianLikelihood
        Trained likelihood.
    losses : list
        Training loss history.
    """
    device = train_x.device
    model = model.to(device)
    likelihood = likelihood.to(device)
    
    model.train()
    likelihood.train()
    
    optimizer = torch.optim.Adam(model.parameters(), lr=lr)
    scheduler = torch.optim.lr_scheduler.ExponentialLR(optimizer, gamma=lr_decay)
    mll = gpytorch.mlls.ExactMarginalLogLikelihood(likelihood, model)
    
    losses = []
    for i in range(epochs):
        optimizer.zero_grad()
        output = model(train_x)
        loss = -mll(output, train_y)
        losses.append(loss.item())
        
        if (i+1) % 10 == 0:
            print(f"Epoch {i+1}/{epochs} | Loss: {loss.item():.3f}")
        
        loss.backward()
        optimizer.step()
        scheduler.step()
    
    return model, likelihood, losses
```

## 5. Model Training and Prediction

```python
# Set seed for reproducibility
torch.manual_seed(42)

# Train model for SARS-CoV-2
likelihood_sars = gpytorch.likelihoods.GaussianLikelihood()
model_sars = GPRegressionModel(X_train, Y_sars, likelihood_sars, kernel_type="linear")
model_sars, likelihood_sars, losses_sars = train_gp_model(
    train_x=X_train,
    train_y=Y_sars,
    likelihood=likelihood_sars,
    model=model_sars,
    epochs=100,
    lr=0.1,
    lr_decay=0.95
)

# Train model for MERS-CoV
likelihood_mers = gpytorch.likelihoods.GaussianLikelihood()
model_mers = GPRegressionModel(X_train, Y_mers, likelihood_mers, kernel_type="linear")
model_mers, likelihood_mers, losses_mers = train_gp_model(
    train_x=X_train,
    train_y=Y_mers,
    likelihood=likelihood_mers,
    model=model_mers,
    epochs=100,
    lr=0.1,
    lr_decay=0.95
)

# Generate predictions for both targets
model_sars.eval()
likelihood_sars.eval()
model_mers.eval()
likelihood_mers.eval()

with torch.no_grad(), gpytorch.settings.fast_pred_var():
    # SARS-CoV-2 predictions
    f_preds_sars = model_sars(X_test)
    mean_sars = f_preds_sars.mean.cpu().numpy()
    
    # MERS-CoV predictions
    f_preds_mers = model_mers(X_test)
    mean_mers = f_preds_mers.mean.cpu().numpy()

# Create prediction dictionary for submission
y_pred = {
    'pIC50 (SARS-CoV-2 Mpro)': mean_sars,
    'pIC50 (MERS-CoV Mpro)': mean_mers
}
```

## 6. Submission to Competition

```python
# Submit predictions
competition.submit_predictions(
    predictions=y_pred,
    prediction_name="gp-model-baseline",
    prediction_owner="your_username",  # Replace with your username
    report_url="",  # Optional, can be empty for now
    description="Gaussian Process Regression baseline with linear kernel",
    tags=["baseline", "gp-regression"],
    user_attributes={"Framework": "GPyTorch", "Method": "Gaussian Process Regression"}
)

print("Submission completed successfully!")
```

